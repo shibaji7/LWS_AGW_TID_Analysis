{
 "cells": [
  {
   "cell_type": "markdown",
   "id": "481eee3f",
   "metadata": {},
   "source": [
    "### Event Analysis Snow Storm (20-22 December 2022): Code presenting snow storm analysis\n",
    "---\n",
    "* __author__ = [Chakraborty, S.]\n",
    "* __copyright__ = \n",
    "* __credits__ = []\n",
    "* __license__ = MIT\n",
    "* __version__ = 1.0\n",
    "* __maintainer__ = Chakraborty, S.\n",
    "* __email__ = shibaji7@vt.edu\n",
    "* __status__ = Research\n",
    "\n",
    "> Analysis steps :\n",
    "> * Saving datasets to local\n",
    "> * Plot RTI & Fan plots\n",
    "> * Create RG/time window for analysis [TODO]\n",
    "> * Run MUSIC analysis [TODO]"
   ]
  },
  {
   "cell_type": "code",
   "execution_count": 1,
   "id": "52d0e5ad",
   "metadata": {},
   "outputs": [
    {
     "name": "stdout",
     "output_type": "stream",
     "text": [
      "\n",
      "IMPORTANT: Please make sure to cite pyDARN in publications that use plots created by pyDARN using DOI: https://zenodo.org/record/3727269. Citing information for SuperDARN data is found at https://pydarn.readthedocs.io/en/master/user/citing/\n"
     ]
    }
   ],
   "source": [
    "# Import the modules we need.\n",
    "%matplotlib inline\n",
    "import datetime as dt\n",
    "import sys\n",
    "\n",
    "sys.path.extend([\"py/txUtils/\", \"py/tid/\"])\n",
    "from fetchUtils import FetchData\n",
    "from rtiUtils import RTI\n",
    "from fanUtils import Fan\n",
    "import tidUtils"
   ]
  },
  {
   "cell_type": "code",
   "execution_count": 2,
   "id": "4b5b0342",
   "metadata": {},
   "outputs": [],
   "source": [
    "# Load a specific event observed in multiple radars\n",
    "rads = [\"fhe\"]\n",
    "fdMap = {}\n",
    "dates = [dt.datetime(2022, 12, 20)]\n",
    "for d in dates:\n",
    "    fdMap[d] = FetchData.fetch(rads, [d, d + dt.timedelta(1)])"
   ]
  },
  {
   "cell_type": "code",
   "execution_count": 3,
   "id": "e7c960ec",
   "metadata": {},
   "outputs": [
    {
     "name": "stderr",
     "output_type": "stream",
     "text": [
      "/home/shibaji/CodeBase/LWS_AGW_TID_Analysis/py/tid/tidUtils.py: 39: SettingWithCopyWarning: \n",
      "A value is trying to be set on a copy of a slice from a DataFrame.\n",
      "Try using .loc[row_indexer,col_indexer] = value instead\n",
      "\n",
      "See the caveats in the documentation: https://pandas.pydata.org/pandas-docs/stable/user_guide/indexing.html#returning-a-view-versus-a-copy\n",
      "/home/shibaji/CodeBase/LWS_AGW_TID_Analysis/py/tid/tidUtils.py: 40: SettingWithCopyWarning: \n",
      "A value is trying to be set on a copy of a slice from a DataFrame.\n",
      "Try using .loc[row_indexer,col_indexer] = value instead\n",
      "\n",
      "See the caveats in the documentation: https://pandas.pydata.org/pandas-docs/stable/user_guide/indexing.html#returning-a-view-versus-a-copy\n",
      "/home/shibaji/CodeBase/LWS_AGW_TID_Analysis/py/tid/tidUtils.py: 42: FutureWarning: In a future version of pandas all arguments of DataFrame.pivot will be keyword-only.\n",
      "/home/shibaji/CodeBase/LWS_AGW_TID_Analysis/py/tid/rtiUtils.py: 106: MatplotlibDeprecationWarning: shading='flat' when X and Y have the same dimensions as C is deprecated since 3.3.  Either specify the corners of the quadrilaterals with X and Y, or pass shading='auto', 'nearest' or 'gouraud', or set rcParams['pcolor.shading'].  This will become an error two minor releases later.\n"
     ]
    }
   ],
   "source": [
    "# Plot RTIs\n",
    "vhm = {\"method\": \"chisham\"}\n",
    "fdMap[dates[0]][\"fhe\"].plot_RTI(angle_th=110.0)"
   ]
  }
 ],
 "metadata": {
  "kernelspec": {
   "display_name": "agw",
   "language": "python",
   "name": "agw"
  },
  "language_info": {
   "codemirror_mode": {
    "name": "ipython",
    "version": 3
   },
   "file_extension": ".py",
   "mimetype": "text/x-python",
   "name": "python",
   "nbconvert_exporter": "python",
   "pygments_lexer": "ipython3",
   "version": "3.10.8"
  }
 },
 "nbformat": 4,
 "nbformat_minor": 5
}
