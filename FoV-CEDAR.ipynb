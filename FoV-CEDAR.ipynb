{
 "cells": [
  {
   "cell_type": "code",
   "execution_count": 1,
   "id": "9f4dab0a",
   "metadata": {},
   "outputs": [
    {
     "name": "stdout",
     "output_type": "stream",
     "text": [
      "\n",
      "IMPORTANT: Please make sure to cite pyDARN in publications that use plots created by pyDARN using DOI: https://zenodo.org/record/3727269. Citing information for SuperDARN data is found at https://pydarn.readthedocs.io/en/master/user/citing/\n"
     ]
    }
   ],
   "source": [
    "import sys\n",
    "\n",
    "sys.path.extend([\"py/txUtils/\", \"py/tid/\", \"py/davitPy/\"])\n",
    "\n",
    "from fanUtils import Fan\n",
    "import datetime as dt\n"
   ]
  },
  {
   "cell_type": "code",
   "execution_count": 2,
   "id": "796cd65b",
   "metadata": {},
   "outputs": [
    {
     "data": {
      "text/plain": [
       "<Figure size 720x720 with 0 Axes>"
      ]
     },
     "metadata": {},
     "output_type": "display_data"
    }
   ],
   "source": [
    "fan = Fan([\"fhe\",\"fhw\"], dt.datetime(2022,12,20))"
   ]
  },
  {
   "cell_type": "code",
   "execution_count": 3,
   "id": "73b5009a",
   "metadata": {},
   "outputs": [
    {
     "name": "stdout",
     "output_type": "stream",
     "text": [
      "manually setting facecolor keyword to none as aacgm fails for fill! want to know why?? think about equator!\n",
      "manually setting facecolor keyword to none as aacgm fails for fill! want to know why?? think about equator!\n",
      "some lats were out of extent ignored them\n"
     ]
    },
    {
     "name": "stderr",
     "output_type": "stream",
     "text": [
      "/home/shibaji/anaconda3/envs/agw/lib/python3.10/site-packages/cartopy/mpl/geoaxes.py: 406: UserWarning: The `map_projection` keyword argument is deprecated, use `projection` to instantiate a GeoAxes instead.\n",
      "/home/shibaji/anaconda3/envs/agw/lib/python3.10/site-packages/cartopy/mpl/geoaxes.py: 801: UserWarning: Approximating coordinate system <Geographic 2D CRS: +proj=lonlat +datum=WGS84 +ellps=WGS84 +no_defs +t ...>\n",
      "Name: unknown\n",
      "Axis Info [ellipsoidal]:\n",
      "- lon[east]: Longitude (degree)\n",
      "- lat[north]: Latitude (degree)\n",
      "Area of Use:\n",
      "- undefined\n",
      "Datum: World Geodetic System 1984\n",
      "- Ellipsoid: WGS 84\n",
      "- Prime Meridian: Greenwich\n",
      " with the PlateCarree projection.\n",
      "/home/shibaji/anaconda3/envs/agw/lib/python3.10/site-packages/shapely/set_operations.py: 133: RuntimeWarning: invalid value encountered in intersection\n"
     ]
    },
    {
     "ename": "IndexError",
     "evalue": "too many indices for array: array is 0-dimensional, but 2 were indexed",
     "output_type": "error",
     "traceback": [
      "\u001b[0;31m---------------------------------------------------------------------------\u001b[0m",
      "\u001b[0;31mIndexError\u001b[0m                                Traceback (most recent call last)",
      "Cell \u001b[0;32mIn[3], line 2\u001b[0m\n\u001b[1;32m      1\u001b[0m ax \u001b[38;5;241m=\u001b[39m fan\u001b[38;5;241m.\u001b[39madd_axes()\n\u001b[0;32m----> 2\u001b[0m \u001b[43mfan\u001b[49m\u001b[38;5;241;43m.\u001b[39;49m\u001b[43mgenerate_fov\u001b[49m\u001b[43m(\u001b[49m\u001b[43mrad\u001b[49m\u001b[38;5;241;43m=\u001b[39;49m\u001b[38;5;124;43m\"\u001b[39;49m\u001b[38;5;124;43mfhe\u001b[39;49m\u001b[38;5;124;43m\"\u001b[39;49m\u001b[43m,\u001b[49m\u001b[43m \u001b[49m\u001b[43mbeams\u001b[49m\u001b[38;5;241;43m=\u001b[39;49m\u001b[43m[\u001b[49m\u001b[38;5;241;43m4\u001b[39;49m\u001b[43m]\u001b[49m\u001b[43m,\u001b[49m\u001b[43m \u001b[49m\u001b[43mframe\u001b[49m\u001b[38;5;241;43m=\u001b[39;49m\u001b[38;5;28;43;01mNone\u001b[39;49;00m\u001b[43m,\u001b[49m\u001b[43m \u001b[49m\u001b[43max\u001b[49m\u001b[38;5;241;43m=\u001b[39;49m\u001b[43max\u001b[49m\u001b[43m)\u001b[49m\n\u001b[1;32m      3\u001b[0m fan\u001b[38;5;241m.\u001b[39mgenerate_fov(rad\u001b[38;5;241m=\u001b[39m\u001b[38;5;124m\"\u001b[39m\u001b[38;5;124mfhw\u001b[39m\u001b[38;5;124m\"\u001b[39m, frame\u001b[38;5;241m=\u001b[39m\u001b[38;5;28;01mNone\u001b[39;00m, ax\u001b[38;5;241m=\u001b[39max)\n",
      "File \u001b[0;32m~/CodeBase/LWS_AGW_TID_Analysis/py/tid/fanUtils.py:136\u001b[0m, in \u001b[0;36mFan.generate_fov\u001b[0;34m(self, rad, frame, beams, ax, laytec)\u001b[0m\n\u001b[1;32m    134\u001b[0m \u001b[38;5;28;01mif\u001b[39;00m frame: ax\u001b[38;5;241m.\u001b[39moverlay_data(rad, frame, \u001b[38;5;28mself\u001b[39m\u001b[38;5;241m.\u001b[39mproj)\n\u001b[1;32m    135\u001b[0m \u001b[38;5;28;01mif\u001b[39;00m beams \u001b[38;5;129;01mand\u001b[39;00m \u001b[38;5;28mlen\u001b[39m(beams) \u001b[38;5;241m>\u001b[39m \u001b[38;5;241m0\u001b[39m:\n\u001b[0;32m--> 136\u001b[0m     [ax\u001b[38;5;241m.\u001b[39moverlay_fov(rad, fovColor\u001b[38;5;241m=\u001b[39m\u001b[38;5;124m\"\u001b[39m\u001b[38;5;124mred\u001b[39m\u001b[38;5;124m\"\u001b[39m, beamLimits\u001b[38;5;241m=\u001b[39m[b, b \u001b[38;5;241m+\u001b[39m \u001b[38;5;241m1\u001b[39m], ls\u001b[38;5;241m=\u001b[39m\u001b[38;5;124m\"\u001b[39m\u001b[38;5;124m--\u001b[39m\u001b[38;5;124m\"\u001b[39m) \u001b[38;5;28;01mfor\u001b[39;00m b \u001b[38;5;129;01min\u001b[39;00m beams]\n\u001b[1;32m    137\u001b[0m \u001b[38;5;28;01mreturn\u001b[39;00m\n",
      "File \u001b[0;32m~/CodeBase/LWS_AGW_TID_Analysis/py/tid/fanUtils.py:136\u001b[0m, in \u001b[0;36m<listcomp>\u001b[0;34m(.0)\u001b[0m\n\u001b[1;32m    134\u001b[0m \u001b[38;5;28;01mif\u001b[39;00m frame: ax\u001b[38;5;241m.\u001b[39moverlay_data(rad, frame, \u001b[38;5;28mself\u001b[39m\u001b[38;5;241m.\u001b[39mproj)\n\u001b[1;32m    135\u001b[0m \u001b[38;5;28;01mif\u001b[39;00m beams \u001b[38;5;129;01mand\u001b[39;00m \u001b[38;5;28mlen\u001b[39m(beams) \u001b[38;5;241m>\u001b[39m \u001b[38;5;241m0\u001b[39m:\n\u001b[0;32m--> 136\u001b[0m     [\u001b[43max\u001b[49m\u001b[38;5;241;43m.\u001b[39;49m\u001b[43moverlay_fov\u001b[49m\u001b[43m(\u001b[49m\u001b[43mrad\u001b[49m\u001b[43m,\u001b[49m\u001b[43m \u001b[49m\u001b[43mfovColor\u001b[49m\u001b[38;5;241;43m=\u001b[39;49m\u001b[38;5;124;43m\"\u001b[39;49m\u001b[38;5;124;43mred\u001b[39;49m\u001b[38;5;124;43m\"\u001b[39;49m\u001b[43m,\u001b[49m\u001b[43m \u001b[49m\u001b[43mbeamLimits\u001b[49m\u001b[38;5;241;43m=\u001b[39;49m\u001b[43m[\u001b[49m\u001b[43mb\u001b[49m\u001b[43m,\u001b[49m\u001b[43m \u001b[49m\u001b[43mb\u001b[49m\u001b[43m \u001b[49m\u001b[38;5;241;43m+\u001b[39;49m\u001b[43m \u001b[49m\u001b[38;5;241;43m1\u001b[39;49m\u001b[43m]\u001b[49m\u001b[43m,\u001b[49m\u001b[43m \u001b[49m\u001b[43mls\u001b[49m\u001b[38;5;241;43m=\u001b[39;49m\u001b[38;5;124;43m\"\u001b[39;49m\u001b[38;5;124;43m--\u001b[39;49m\u001b[38;5;124;43m\"\u001b[39;49m\u001b[43m)\u001b[49m \u001b[38;5;28;01mfor\u001b[39;00m b \u001b[38;5;129;01min\u001b[39;00m beams]\n\u001b[1;32m    137\u001b[0m \u001b[38;5;28;01mreturn\u001b[39;00m\n",
      "File \u001b[0;32m~/CodeBase/LWS_AGW_TID_Analysis/py/tid/cartoUtils.py:432\u001b[0m, in \u001b[0;36mSDCarto.overlay_fov\u001b[0;34m(self, rad, tx, maxGate, beamLimits, fovColor, fovAlpha, zorder, lineColor, lineWidth, ls, model, fov_dir)\u001b[0m\n\u001b[1;32m    430\u001b[0m     contour \u001b[38;5;241m=\u001b[39m transpose(vstack((contour_x, contour_y)))\n\u001b[1;32m    431\u001b[0m     polygon \u001b[38;5;241m=\u001b[39m Polygon(contour)\n\u001b[0;32m--> 432\u001b[0m     patch \u001b[38;5;241m=\u001b[39m \u001b[43mPolygonPatch\u001b[49m\u001b[43m(\u001b[49m\n\u001b[1;32m    433\u001b[0m \u001b[43m        \u001b[49m\u001b[43mpolygon\u001b[49m\u001b[43m,\u001b[49m\n\u001b[1;32m    434\u001b[0m \u001b[43m        \u001b[49m\u001b[43mfacecolor\u001b[49m\u001b[38;5;241;43m=\u001b[39;49m\u001b[43mfovColor\u001b[49m\u001b[43m,\u001b[49m\n\u001b[1;32m    435\u001b[0m \u001b[43m        \u001b[49m\u001b[43medgecolor\u001b[49m\u001b[38;5;241;43m=\u001b[39;49m\u001b[43mfovColor\u001b[49m\u001b[43m,\u001b[49m\n\u001b[1;32m    436\u001b[0m \u001b[43m        \u001b[49m\u001b[43malpha\u001b[49m\u001b[38;5;241;43m=\u001b[39;49m\u001b[43mfovAlpha\u001b[49m\u001b[43m,\u001b[49m\n\u001b[1;32m    437\u001b[0m \u001b[43m        \u001b[49m\u001b[43mzorder\u001b[49m\u001b[38;5;241;43m=\u001b[39;49m\u001b[43mzorder\u001b[49m\u001b[43m,\u001b[49m\n\u001b[1;32m    438\u001b[0m \u001b[43m    \u001b[49m\u001b[43m)\u001b[49m\n\u001b[1;32m    439\u001b[0m     \u001b[38;5;28mself\u001b[39m\u001b[38;5;241m.\u001b[39madd_patch(patch)\n\u001b[1;32m    440\u001b[0m \u001b[38;5;28;01mreturn\u001b[39;00m\n",
      "File \u001b[0;32m~/anaconda3/envs/agw/lib/python3.10/site-packages/descartes/patch.py:87\u001b[0m, in \u001b[0;36mPolygonPatch\u001b[0;34m(polygon, **kwargs)\u001b[0m\n\u001b[1;32m     73\u001b[0m \u001b[38;5;28;01mdef\u001b[39;00m \u001b[38;5;21mPolygonPatch\u001b[39m(polygon, \u001b[38;5;241m*\u001b[39m\u001b[38;5;241m*\u001b[39mkwargs):\n\u001b[1;32m     74\u001b[0m \u001b[38;5;250m    \u001b[39m\u001b[38;5;124;03m\"\"\"Constructs a matplotlib patch from a geometric object\u001b[39;00m\n\u001b[1;32m     75\u001b[0m \n\u001b[1;32m     76\u001b[0m \u001b[38;5;124;03m    The `polygon` may be a Shapely or GeoJSON-like object with or without holes.\u001b[39;00m\n\u001b[0;32m   (...)\u001b[0m\n\u001b[1;32m     85\u001b[0m \n\u001b[1;32m     86\u001b[0m \u001b[38;5;124;03m    \"\"\"\u001b[39;00m\n\u001b[0;32m---> 87\u001b[0m     \u001b[38;5;28;01mreturn\u001b[39;00m PathPatch(\u001b[43mPolygonPath\u001b[49m\u001b[43m(\u001b[49m\u001b[43mpolygon\u001b[49m\u001b[43m)\u001b[49m, \u001b[38;5;241m*\u001b[39m\u001b[38;5;241m*\u001b[39mkwargs)\n",
      "File \u001b[0;32m~/anaconda3/envs/agw/lib/python3.10/site-packages/descartes/patch.py:62\u001b[0m, in \u001b[0;36mPolygonPath\u001b[0;34m(polygon)\u001b[0m\n\u001b[1;32m     58\u001b[0m     \u001b[38;5;28;01melse\u001b[39;00m:\n\u001b[1;32m     59\u001b[0m         \u001b[38;5;28;01mraise\u001b[39;00m \u001b[38;5;167;01mValueError\u001b[39;00m(\n\u001b[1;32m     60\u001b[0m             \u001b[38;5;124m\"\u001b[39m\u001b[38;5;124mA polygon or multi-polygon representation is required\u001b[39m\u001b[38;5;124m\"\u001b[39m)\n\u001b[0;32m---> 62\u001b[0m vertices \u001b[38;5;241m=\u001b[39m concatenate([\n\u001b[1;32m     63\u001b[0m     concatenate([asarray(t\u001b[38;5;241m.\u001b[39mexterior)[:, :\u001b[38;5;241m2\u001b[39m]] \u001b[38;5;241m+\u001b[39m\n\u001b[1;32m     64\u001b[0m                 [asarray(r)[:, :\u001b[38;5;241m2\u001b[39m] \u001b[38;5;28;01mfor\u001b[39;00m r \u001b[38;5;129;01min\u001b[39;00m t\u001b[38;5;241m.\u001b[39minteriors])\n\u001b[1;32m     65\u001b[0m     \u001b[38;5;28;01mfor\u001b[39;00m t \u001b[38;5;129;01min\u001b[39;00m polygon])\n\u001b[1;32m     66\u001b[0m codes \u001b[38;5;241m=\u001b[39m concatenate([\n\u001b[1;32m     67\u001b[0m     concatenate([coding(t\u001b[38;5;241m.\u001b[39mexterior)] \u001b[38;5;241m+\u001b[39m\n\u001b[1;32m     68\u001b[0m                 [coding(r) \u001b[38;5;28;01mfor\u001b[39;00m r \u001b[38;5;129;01min\u001b[39;00m t\u001b[38;5;241m.\u001b[39minteriors]) \u001b[38;5;28;01mfor\u001b[39;00m t \u001b[38;5;129;01min\u001b[39;00m polygon])\n\u001b[1;32m     70\u001b[0m \u001b[38;5;28;01mreturn\u001b[39;00m Path(vertices, codes)\n",
      "File \u001b[0;32m~/anaconda3/envs/agw/lib/python3.10/site-packages/descartes/patch.py:63\u001b[0m, in \u001b[0;36m<listcomp>\u001b[0;34m(.0)\u001b[0m\n\u001b[1;32m     58\u001b[0m     \u001b[38;5;28;01melse\u001b[39;00m:\n\u001b[1;32m     59\u001b[0m         \u001b[38;5;28;01mraise\u001b[39;00m \u001b[38;5;167;01mValueError\u001b[39;00m(\n\u001b[1;32m     60\u001b[0m             \u001b[38;5;124m\"\u001b[39m\u001b[38;5;124mA polygon or multi-polygon representation is required\u001b[39m\u001b[38;5;124m\"\u001b[39m)\n\u001b[1;32m     62\u001b[0m vertices \u001b[38;5;241m=\u001b[39m concatenate([\n\u001b[0;32m---> 63\u001b[0m     concatenate([\u001b[43masarray\u001b[49m\u001b[43m(\u001b[49m\u001b[43mt\u001b[49m\u001b[38;5;241;43m.\u001b[39;49m\u001b[43mexterior\u001b[49m\u001b[43m)\u001b[49m\u001b[43m[\u001b[49m\u001b[43m:\u001b[49m\u001b[43m,\u001b[49m\u001b[43m \u001b[49m\u001b[43m:\u001b[49m\u001b[38;5;241;43m2\u001b[39;49m\u001b[43m]\u001b[49m] \u001b[38;5;241m+\u001b[39m\n\u001b[1;32m     64\u001b[0m                 [asarray(r)[:, :\u001b[38;5;241m2\u001b[39m] \u001b[38;5;28;01mfor\u001b[39;00m r \u001b[38;5;129;01min\u001b[39;00m t\u001b[38;5;241m.\u001b[39minteriors])\n\u001b[1;32m     65\u001b[0m     \u001b[38;5;28;01mfor\u001b[39;00m t \u001b[38;5;129;01min\u001b[39;00m polygon])\n\u001b[1;32m     66\u001b[0m codes \u001b[38;5;241m=\u001b[39m concatenate([\n\u001b[1;32m     67\u001b[0m     concatenate([coding(t\u001b[38;5;241m.\u001b[39mexterior)] \u001b[38;5;241m+\u001b[39m\n\u001b[1;32m     68\u001b[0m                 [coding(r) \u001b[38;5;28;01mfor\u001b[39;00m r \u001b[38;5;129;01min\u001b[39;00m t\u001b[38;5;241m.\u001b[39minteriors]) \u001b[38;5;28;01mfor\u001b[39;00m t \u001b[38;5;129;01min\u001b[39;00m polygon])\n\u001b[1;32m     70\u001b[0m \u001b[38;5;28;01mreturn\u001b[39;00m Path(vertices, codes)\n",
      "\u001b[0;31mIndexError\u001b[0m: too many indices for array: array is 0-dimensional, but 2 were indexed"
     ]
    }
   ],
   "source": [
    "ax = fan.add_axes()\n",
    "fan.generate_fov(rad=\"fhe\", beams=[4], frame=None, ax=ax)\n",
    "fan.generate_fov(rad=\"fhw\", frame=None, ax=ax)"
   ]
  },
  {
   "cell_type": "code",
   "execution_count": null,
   "id": "0efa0233",
   "metadata": {},
   "outputs": [],
   "source": [
    "fan.save(\"Fan.png\")"
   ]
  }
 ],
 "metadata": {
  "kernelspec": {
   "display_name": "agw",
   "language": "python",
   "name": "agw"
  },
  "language_info": {
   "codemirror_mode": {
    "name": "ipython",
    "version": 3
   },
   "file_extension": ".py",
   "mimetype": "text/x-python",
   "name": "python",
   "nbconvert_exporter": "python",
   "pygments_lexer": "ipython3",
   "version": "3.10.8"
  }
 },
 "nbformat": 4,
 "nbformat_minor": 5
}
